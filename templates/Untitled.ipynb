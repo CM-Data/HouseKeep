{
 "cells": [
  {
   "cell_type": "code",
   "execution_count": 1,
   "id": "f46e8bc4-b9da-4a7b-9207-a3ace84f170a",
   "metadata": {},
   "outputs": [
    {
     "name": "stdout",
     "output_type": "stream",
     "text": [
      "[{'Name': 'Bonobos'}, {'Name': 'Canva'}, {'Name': 'Chegg'}, {'Name': 'Chess'}, {'Name': 'Dropbox'}, {'Name': 'Gravatar'}, {'Name': 'MyFitnessPal'}, {'Name': 'NotSOCRadar'}, {'Name': 'ParkMobile'}, {'Name': 'Ticketfly'}, {'Name': 'Tumblr'}, {'Name': 'Twitter200M'}]\n"
     ]
    }
   ],
   "source": [
    "import requests\n",
    "\n",
    "api_key = '998d77b904fb44d2a1f2a8bf2cd0c3c2'\n",
    "account = 'murphy.j.colin@gmail.com'\n",
    "url = f'https://haveibeenpwned.com/api/v3/breachedaccount/{account}'\n",
    "\n",
    "https://haveibeenpwned.com/api/v3/breaches?domain=\n",
    "headers = {\n",
    "    'hibp-api-key': api_key\n",
    "}\n",
    "\n",
    "response = requests.get(url, headers=headers)\n",
    "\n",
    "if response.status_code == 200:\n",
    "    print(response.json())\n",
    "else:\n",
    "    print(f\"Failed to retrieve data: {response.status_code}\")"
   ]
  },
  {
   "cell_type": "code",
   "execution_count": null,
   "id": "ffa6bd6b-0814-4958-b424-a414c87d15ab",
   "metadata": {},
   "outputs": [],
   "source": [
    "998d77b904fb44d2a1f2a8bf2cd0c3c2"
   ]
  }
 ],
 "metadata": {
  "kernelspec": {
   "display_name": "Python 3",
   "language": "python",
   "name": "python3"
  },
  "language_info": {
   "codemirror_mode": {
    "name": "ipython",
    "version": 3
   },
   "file_extension": ".py",
   "mimetype": "text/x-python",
   "name": "python",
   "nbconvert_exporter": "python",
   "pygments_lexer": "ipython3",
   "version": "3.8.10"
  }
 },
 "nbformat": 4,
 "nbformat_minor": 5
}
